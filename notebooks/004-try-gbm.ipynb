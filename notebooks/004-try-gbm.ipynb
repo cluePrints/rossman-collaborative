{
 "cells": [
  {
   "cell_type": "code",
   "execution_count": 1,
   "metadata": {},
   "outputs": [],
   "source": [
    "%reload_ext autoreload\n",
    "%autoreload 2\n",
    "%matplotlib inline"
   ]
  },
  {
   "cell_type": "code",
   "execution_count": 2,
   "metadata": {},
   "outputs": [],
   "source": [
    "import pandas as pd\n",
    "import numpy as np"
   ]
  },
  {
   "cell_type": "code",
   "execution_count": 3,
   "metadata": {},
   "outputs": [],
   "source": [
    "raw_data = '../data/raw'"
   ]
  },
  {
   "cell_type": "code",
   "execution_count": 4,
   "metadata": {},
   "outputs": [
    {
     "data": {
      "text/html": [
       "<div>\n",
       "<style scoped>\n",
       "    .dataframe tbody tr th:only-of-type {\n",
       "        vertical-align: middle;\n",
       "    }\n",
       "\n",
       "    .dataframe tbody tr th {\n",
       "        vertical-align: top;\n",
       "    }\n",
       "\n",
       "    .dataframe thead th {\n",
       "        text-align: right;\n",
       "    }\n",
       "</style>\n",
       "<table border=\"1\" class=\"dataframe\">\n",
       "  <thead>\n",
       "    <tr style=\"text-align: right;\">\n",
       "      <th></th>\n",
       "      <th>Store</th>\n",
       "      <th>DayOfWeek</th>\n",
       "      <th>Date</th>\n",
       "      <th>Sales</th>\n",
       "      <th>Customers</th>\n",
       "      <th>Open</th>\n",
       "      <th>Promo</th>\n",
       "      <th>StateHoliday</th>\n",
       "      <th>SchoolHoliday</th>\n",
       "    </tr>\n",
       "  </thead>\n",
       "  <tbody>\n",
       "    <tr>\n",
       "      <th>0</th>\n",
       "      <td>1</td>\n",
       "      <td>5</td>\n",
       "      <td>2015-07-31</td>\n",
       "      <td>5263</td>\n",
       "      <td>555</td>\n",
       "      <td>1</td>\n",
       "      <td>1</td>\n",
       "      <td>0</td>\n",
       "      <td>1</td>\n",
       "    </tr>\n",
       "  </tbody>\n",
       "</table>\n",
       "</div>"
      ],
      "text/plain": [
       "   Store  DayOfWeek        Date  Sales  Customers  Open  Promo StateHoliday  \\\n",
       "0      1          5  2015-07-31   5263        555     1      1            0   \n",
       "\n",
       "   SchoolHoliday  \n",
       "0              1  "
      ]
     },
     "execution_count": 4,
     "metadata": {},
     "output_type": "execute_result"
    }
   ],
   "source": [
    "train = pd.read_csv(f'{raw_data}/train.csv', low_memory=False)\n",
    "train.head(1)"
   ]
  },
  {
   "cell_type": "code",
   "execution_count": 5,
   "metadata": {},
   "outputs": [],
   "source": [
    "y = train['Sales']"
   ]
  },
  {
   "cell_type": "code",
   "execution_count": 6,
   "metadata": {},
   "outputs": [],
   "source": [
    "from sklearn.preprocessing import OneHotEncoder\n",
    "train = pd.concat([train, train['StateHoliday']], axis=1)\n",
    "train.drop(['StateHoliday'], axis=1, inplace=True)"
   ]
  },
  {
   "cell_type": "code",
   "execution_count": 7,
   "metadata": {},
   "outputs": [],
   "source": [
    "train.drop(['Customers'], axis=1, inplace=True)"
   ]
  },
  {
   "cell_type": "code",
   "execution_count": 8,
   "metadata": {},
   "outputs": [],
   "source": [
    "train['Date'] = pd.to_datetime(train['Date'])\n",
    "for fld in ['year', 'week', 'day', 'dayofweek', 'dayofyear', 'weekday', 'weekofyear', 'quarter']:\n",
    "    train[f'Date_{fld}'] = getattr(train['Date'].dt, fld)\n",
    "train.head()\n",
    "train.drop(['Sales'], axis=1, inplace=True)"
   ]
  },
  {
   "cell_type": "code",
   "execution_count": 9,
   "metadata": {},
   "outputs": [],
   "source": [
    "import lightgbm as lgb"
   ]
  },
  {
   "cell_type": "code",
   "execution_count": 10,
   "metadata": {},
   "outputs": [],
   "source": [
    "parameters = {\n",
    "    'objective': 'binary',\n",
    "    'learning_rate': 0.1,\n",
    "    'num_threads': 4,\n",
    "    \"metric\": 'auc'\n",
    "}\n",
    "n_rounds = 10000\n",
    "\n",
    "lgb_train = lgb.Dataset(train, label=y, free_raw_data=False, )"
   ]
  },
  {
   "cell_type": "code",
   "execution_count": 11,
   "metadata": {},
   "outputs": [],
   "source": [
    "from sklearn.model_selection import StratifiedKFold, TimeSeriesSplit\n",
    "skf = TimeSeriesSplit(n_splits=3)"
   ]
  },
  {
   "cell_type": "code",
   "execution_count": 12,
   "metadata": {},
   "outputs": [],
   "source": [
    "trn, val = next(skf.split(train))"
   ]
  },
  {
   "cell_type": "code",
   "execution_count": 13,
   "metadata": {},
   "outputs": [
    {
     "data": {
      "text/plain": [
       "(Timestamp('2014-12-12 00:00:00'), Timestamp('2015-07-31 00:00:00'))"
      ]
     },
     "execution_count": 13,
     "metadata": {},
     "output_type": "execute_result"
    }
   ],
   "source": [
    "train.iloc[trn]['Date'].min(), train.iloc[trn]['Date'].max()"
   ]
  },
  {
   "cell_type": "code",
   "execution_count": 14,
   "metadata": {},
   "outputs": [
    {
     "data": {
      "text/plain": [
       "(Timestamp('2014-04-02 00:00:00'), Timestamp('2014-12-12 00:00:00'))"
      ]
     },
     "execution_count": 14,
     "metadata": {},
     "output_type": "execute_result"
    }
   ],
   "source": [
    "# TODO: CV & timeseries splitting do not work out of the box\n",
    "# https://github.com/microsoft/LightGBM/pull/298/files\n",
    "# looks like no intersections to me, curious where's the leak though\n",
    "train.iloc[val]['Date'].min(), train.iloc[val]['Date'].max()"
   ]
  },
  {
   "cell_type": "code",
   "execution_count": 15,
   "metadata": {},
   "outputs": [],
   "source": [
    "train.drop(['Date'], axis=1, inplace=True)"
   ]
  },
  {
   "cell_type": "code",
   "execution_count": 16,
   "metadata": {},
   "outputs": [
    {
     "name": "stdout",
     "output_type": "stream",
     "text": [
      "[1]\tcv_agg's auc: 0.999825 + 6.81871e-05\n",
      "[2]\tcv_agg's auc: 0.999824 + 7.04435e-05\n",
      "[3]\tcv_agg's auc: 0.99983 + 6.3355e-05\n",
      "[4]\tcv_agg's auc: 0.999828 + 5.97586e-05\n",
      "[5]\tcv_agg's auc: 0.999827 + 5.86244e-05\n",
      "[6]\tcv_agg's auc: 0.999829 + 6.02801e-05\n",
      "[7]\tcv_agg's auc: 0.999828 + 5.85444e-05\n",
      "[8]\tcv_agg's auc: 0.999828 + 5.95454e-05\n",
      "[9]\tcv_agg's auc: 0.999829 + 5.85432e-05\n",
      "[10]\tcv_agg's auc: 0.999827 + 6.09077e-05\n",
      "[11]\tcv_agg's auc: 0.999826 + 5.87599e-05\n",
      "[12]\tcv_agg's auc: 0.999824 + 6.13358e-05\n",
      "[13]\tcv_agg's auc: 0.999825 + 5.91884e-05\n"
     ]
    }
   ],
   "source": [
    "result = lgb.cv(parameters, lgb_train, n_rounds, \n",
    "                folds=skf.split(train, y), early_stopping_rounds=10, verbose_eval=1, \n",
    "                   )"
   ]
  },
  {
   "cell_type": "code",
   "execution_count": 17,
   "metadata": {},
   "outputs": [
    {
     "data": {
      "text/plain": [
       "<matplotlib.axes._subplots.AxesSubplot at 0x7fbda010bac8>"
      ]
     },
     "execution_count": 17,
     "metadata": {},
     "output_type": "execute_result"
    },
    {
     "data": {
      "image/png": "[encoded data removed]",
      "text/plain": [
       "<Figure size 432x288 with 1 Axes>"
      ]
     },
     "metadata": {
      "needs_background": "light"
     },
     "output_type": "display_data"
    }
   ],
   "source": [
    "#there's fair bit of variability, I think I might just need drop y from train\n",
    "y.hist()"
   ]
  },
  {
   "cell_type": "code",
   "execution_count": 18,
   "metadata": {},
   "outputs": [],
   "source": [
    "model = lgb.LGBMRegressor(n_estimators = 1000, class_weight ='balanced')"
   ]
  },
  {
   "cell_type": "code",
   "execution_count": 21,
   "metadata": {},
   "outputs": [
    {
     "name": "stdout",
     "output_type": "stream",
     "text": [
      "[1]\tvalid_0's l2: 3.49554e+07\tvalid_0's rmspe: 0.570365\n",
      "Training until validation scores don't improve for 10 rounds.\n",
      "[2]\tvalid_0's l2: 3.46919e+07\tvalid_0's rmspe: 0.569158\n",
      "[3]\tvalid_0's l2: 3.42843e+07\tvalid_0's rmspe: 0.567428\n",
      "[4]\tvalid_0's l2: 3.43523e+07\tvalid_0's rmspe: 0.566604\n",
      "[5]\tvalid_0's l2: 3.45716e+07\tvalid_0's rmspe: 0.566088\n",
      "[6]\tvalid_0's l2: 3.40554e+07\tvalid_0's rmspe: 0.564199\n",
      "[7]\tvalid_0's l2: 3.42767e+07\tvalid_0's rmspe: 0.563487\n",
      "[8]\tvalid_0's l2: 3.48509e+07\tvalid_0's rmspe: 0.563765\n",
      "[9]\tvalid_0's l2: 3.49374e+07\tvalid_0's rmspe: 0.563337\n",
      "[10]\tvalid_0's l2: 3.50368e+07\tvalid_0's rmspe: 0.56298\n",
      "[11]\tvalid_0's l2: 3.44817e+07\tvalid_0's rmspe: 0.5613\n",
      "[12]\tvalid_0's l2: 3.50543e+07\tvalid_0's rmspe: 0.56215\n",
      "[13]\tvalid_0's l2: 3.52016e+07\tvalid_0's rmspe: 0.561102\n",
      "[14]\tvalid_0's l2: 3.53796e+07\tvalid_0's rmspe: 0.561179\n",
      "[15]\tvalid_0's l2: 3.55907e+07\tvalid_0's rmspe: 0.561478\n",
      "[16]\tvalid_0's l2: 3.52385e+07\tvalid_0's rmspe: 0.561101\n",
      "Early stopping, best iteration is:\n",
      "[6]\tvalid_0's l2: 3.40554e+07\tvalid_0's rmspe: 0.564199\n"
     ]
    },
    {
     "data": {
      "text/plain": [
       "LGBMRegressor(boosting_type='gbdt', class_weight='balanced',\n",
       "              colsample_bytree=1.0, importance_type='split', learning_rate=0.1,\n",
       "              max_depth=-1, min_child_samples=20, min_child_weight=0.001,\n",
       "              min_split_gain=0.0, n_estimators=1000, n_jobs=-1, num_leaves=31,\n",
       "              objective=None, random_state=None, reg_alpha=0.0, reg_lambda=0.0,\n",
       "              silent=True, subsample=1.0, subsample_for_bin=200000,\n",
       "              subsample_freq=0)"
      ]
     },
     "execution_count": 21,
     "metadata": {},
     "output_type": "execute_result"
    }
   ],
   "source": [
    "def rmspe_number(y, yhat):\n",
    "    return np.sqrt(np.mean((yhat/y-1) ** 2))\n",
    "\n",
    "def rmspe_lgb(yhat, y):\n",
    "    return \"rmspe\", rmspe_number(y,yhat), False\n",
    "\n",
    "# kaggle competition has RMSPE of around 0.1, so it's copypasting AUC is the source of confusion\n",
    "trn, val = next(skf.split(train))\n",
    "model.fit(train.iloc[trn], y.iloc[trn], verbose=1, eval_set = [(train.iloc[val], y.iloc[val])], \n",
    "          eval_metric = rmspe_lgb, early_stopping_rounds=10)"
   ]
  },
  {
   "cell_type": "code",
   "execution_count": 22,
   "metadata": {},
   "outputs": [
    {
     "data": {
      "text/plain": [
       "<matplotlib.axes._subplots.AxesSubplot at 0x7fbdbff982e8>"
      ]
     },
     "execution_count": 22,
     "metadata": {},
     "output_type": "execute_result"
    },
    {
     "data": {
      "image/png": "[encoded data removed]",
      "text/plain": [
       "<Figure size 432x288 with 1 Axes>"
      ]
     },
     "metadata": {
      "needs_background": "light"
     },
     "output_type": "display_data"
    }
   ],
   "source": [
    "lgb.plot_importance(model)"
   ]
  },
  {
   "cell_type": "code",
   "execution_count": null,
   "metadata": {},
   "outputs": [],
   "source": []
  }
 ],
 "metadata": {
  "kernelspec": {
   "display_name": "Python 3",
   "language": "python",
   "name": "python3"
  },
  "language_info": {
   "codemirror_mode": {
    "name": "ipython",
    "version": 3
   },
   "file_extension": ".py",
   "mimetype": "text/x-python",
   "name": "python",
   "nbconvert_exporter": "python",
   "pygments_lexer": "ipython3",
   "version": "3.6.8"
  }
 },
 "nbformat": 4,
 "nbformat_minor": 2
}
